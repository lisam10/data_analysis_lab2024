{
 "cells": [
  {
   "cell_type": "markdown",
   "id": "e9f0e185-aeb3-4bd5-a5e0-5e6b3e6ebf0e",
   "metadata": {},
   "source": [
    "# Lecture 6 - 16/04/2024\n",
    "\n",
    "Lecture 6 will be made up of two parts:\n",
    "1. Analysing SFR of galaxies,\n",
    "2. Introducing Galaxy Enviroments.\n",
    "\n",
    "This notebook will focus on (2), look for Lecture6_1 for more information about point (1)."
   ]
  },
  {
   "cell_type": "markdown",
   "id": "96ffaa4d-e935-4444-b860-d4425dd581f4",
   "metadata": {},
   "source": [
    "## 2. Galaxy Enviroments\n",
    "### Introduction\n",
    "Galaxies are not uniformely distributed due to gravity, leading to more massive structures (groups and clusters). This is a consequence of the hierarchical universe: smaller structures tend to fond earlier and then merge creating larger ones.\n",
    "\n",
    "Thus, galaxies can be:\n",
    "- isolated (Milky Way-like galaxies, with parent halo mass $\\sim 10^{12}\\, M_\\odot$);\n",
    "- in groups (usually up to 50 galaxies in a diameter of 1 to 2 megaparsecs, with a parent halo mass of approximately $10^{13 - 14}\\, M_\\odot$);\n",
    "- in clusters (parent halo mass $> 10^{14}\\, M_\\odot$).\n",
    "\n",
    "We can see the # of this structures as a function of the dark matter halo mass. This function is called the Halo Mass function and highlights that there are few clusters compared to groups and few groups compared to isolated galaxies.\n",
    "\n",
    "![Halo mass function](halomassf.jpg)\n",
    "\n",
    "The most massive galaxy of a given halo is called the central galaxy, all the others orbiting in the same halo are called satellites. An isolated galaxy is by definition central."
   ]
  },
  {
   "cell_type": "markdown",
   "id": "c1d7a78a-0e20-454d-b477-1f4fac6d68c0",
   "metadata": {},
   "source": [
    "But how can we define the enviroment without seeing dm?\n",
    "The 2 most used ways are:\n",
    "- counting galaxies in a cylinder with a base radius $r_{ap}$ (in Kpc) and a depth of $\\Delta \\nu$ (in km/s), the densest environments will have the highest scores in this metric.\n",
    "- finding the distance of the Nth nearest neighbour to each galaxy, the densest environments will have the lowest score in this metric.\n",
    "\n",
    "The first method is the most popular. We define a surface density as:\n",
    "$$\\Sigma_{r_{ap}} = \\frac{\\Sigma_{gal} \\, \\omega_{gal}}{\\pi \\times r_{ap}^2} \\, ,$$\n",
    "\n",
    "where $\\omega_{gal}$ is the weight of each galaxy, usually equal to 1.\n",
    "\n",
    "But why do we use a surface density and not a volumetric one? \n",
    "1. measuring $\\Delta \\nu$ is hard and we might have to increase it in order to include the structure we're considering,\n",
    "2. we might want to compare two cylinders with same $r_{ap}$ but different depths,\n",
    "3. by considering a volume, the depth would dominate over the aperture.\n",
    "\n",
    "\n",
    "Both $r_{ap}$ and $\\Delta \\nu$ must be chosen wisely: too big of a radius gives us high knowledge of clusters but few information on groups, this is why $r_{ap} \\in (500, 1000)$ kpc in most datasets. \n",
    "The virial radius of\n",
    "- Clusters is 1-2 Mpc,\n",
    "- Groups is 300-500 Kpc,\n",
    "- MW like galaxies is 150-200 Kpc.\n",
    "\n",
    "Peculiar velocities in\n",
    "- Clusters $\\sigma_{l.o.s.}$ ~700-1000 km/s,\n",
    "- Groups $\\sigma_{l.o.s.}$ ~200-500 km/s.\n",
    "(l.o.s. = line of sight)\n",
    "\n",
    "![cylindrical apertures](cyl_apertures.jpg)\n",
    "\n",
    "    The Fingers of God effect is where the galaxy distribution is elongated in redshift space, with an axis of elongation pointed toward the observer. It is caused by a Doppler shift associated with the random peculiar velocities of galaxies bound in structures such as clusters. The large velocities that lead to this effect are associated with the gravity of the cluster by means of the virial theorem; they change the observed redshifts of the galaxies in the cluster. The deviation from the Hubble's law relationship between distance and redshift is altered, and this leads to inaccurate distance measurements. \n",
    "[Fingers of God](https://en.wikipedia.org/wiki/Redshift-space_distortions)\n",
    "\n"
   ]
  },
  {
   "cell_type": "markdown",
   "id": "2148a740-69d1-4de0-9b30-d7be2c2ae54d",
   "metadata": {},
   "source": [
    "The enviromental densities that we can find through the two methods can then be converted into an estimate of the halo mass\n",
    "\n",
    "![Halo mass conversion](envden_halomass.jpg)\n",
    "\n",
    "From the plots we can see that there are galaxies which live close to a cluster that can be really close with one another but have low halo mass (see i.e. the region with mass $\\in (10, 12)$ and percentage rank $\\in (80, 100)$)."
   ]
  },
  {
   "cell_type": "code",
   "execution_count": 1,
   "id": "dda237c7",
   "metadata": {},
   "outputs": [],
   "source": [
    "import numpy as np\n",
    "from astropy.io import fits\n",
    "from astropy.table import Table\n",
    "from astropy.coordinates import FK5, SkyCoord\n",
    "#from astropy.cosmology import Planck18 as cosmo\n",
    "from astropy import units as u\n",
    "from tqdm import tqdm"
   ]
  },
  {
   "cell_type": "code",
   "execution_count": 2,
   "id": "3c62d64d",
   "metadata": {},
   "outputs": [],
   "source": [
    "data = Table.read('SDSS_LAB2024_photometry.fits')"
   ]
  },
  {
   "cell_type": "markdown",
   "id": "3e07b77c",
   "metadata": {},
   "source": [
    "When computing the local environment it is common to define: A Primary galaxy (the one you are computing the local density for), the Neighbours sample (all the other galaxies that contribute to the environment metrics)"
   ]
  },
  {
   "cell_type": "code",
   "execution_count": null,
   "id": "99bb0a52",
   "metadata": {},
   "outputs": [],
   "source": [
    "Nneigh = np.zeros_like(data[ra])\n",
    "AP_radius = 500 #kpc\n",
    "DV_cut    = 1000 #km/s\n",
    "\n",
    "NEIcoords = SkyCoord(ra=data['ra']*u.deg, dec=data['dec']*u.deg)\n",
    "\n",
    "for gal in tqdm(range(len(data['id']))):\n",
    "\n",
    "    PRIcoords = SkyCoord(ra=data['ra'][gal]*u.deg, dec=data['dec'][gal]*u.deg)\n",
    "    PRIredshift = data['redshift'][gal]\n",
    "    \n",
    "    #Obtain a separation of all galaxies from the primary and convert to arcsec\n",
    "    Separation = NEIcoords.separation(PRIcoords).to(u.arcsec)\n",
    "\n",
    "    #Kpc to arcsec and obtain a Separation in Kpc\n",
    "    arcsec_per_kpc = cosmo.arcsec_per_kpc_proper(PRIredshift)\n",
    "    Separation_kpc = Separation.value/arcsec_per_kpc.value\n",
    "\n",
    "    #Evaluate separation in redshift space\n",
    "    deltav = np.abs(3e5*(data['redshift']-PRIredshift)/(1+PRIredshift))\n",
    "\n",
    "    #Define the selection conditions\n",
    "    condition =  (Separation_kpc>0) & (Separation_kpc<AP_radius) & (deltav<DV_cut)\n",
    "    \n",
    "    #Save the number of galaxies satisfying the selections. Please note these values do not include the primary galaxy.\n",
    "    Nneigh[gal] = condition.sum()\n"
   ]
  },
  {
   "cell_type": "code",
   "execution_count": null,
   "id": "7d89b2ec",
   "metadata": {},
   "outputs": [],
   "source": [
    "#Turn the number of galaxies into a surface density of galaxies.\n",
    "Dens_05 = Nneigh/(np.pi*0.5**2)"
   ]
  },
  {
   "cell_type": "code",
   "execution_count": null,
   "id": "23f8024a",
   "metadata": {},
   "outputs": [],
   "source": [
    "tabout = Table((data['id'], Dens_05), names=('id', 'dens_05'))\n",
    "tabout.write('SDSS_env.fits', overwrite=True)"
   ]
  },
  {
   "cell_type": "code",
   "execution_count": null,
   "id": "98a1f64d",
   "metadata": {},
   "outputs": [],
   "source": []
  }
 ],
 "metadata": {
  "kernelspec": {
   "display_name": "Python 3 (ipykernel)",
   "language": "python",
   "name": "python3"
  },
  "language_info": {
   "codemirror_mode": {
    "name": "ipython",
    "version": 3
   },
   "file_extension": ".py",
   "mimetype": "text/x-python",
   "name": "python",
   "nbconvert_exporter": "python",
   "pygments_lexer": "ipython3",
   "version": "3.11.8"
  }
 },
 "nbformat": 4,
 "nbformat_minor": 5
}
